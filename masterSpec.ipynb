{
 "cells": [
  {
   "cell_type": "markdown",
   "metadata": {},
   "source": [
    "Trial version of what data in our spec should look like. User is burdened with formatting the data in our spec. "
   ]
  },
  {
   "cell_type": "code",
   "execution_count": 3,
   "metadata": {},
   "outputs": [],
   "source": [
    "import numpy as np\n",
    "import json \n",
    "import pandas as pd"
   ]
  },
  {
   "cell_type": "markdown",
   "metadata": {},
   "source": [
    "### Start with the data: edgelist should be in csv and should be sparse"
   ]
  },
  {
   "cell_type": "code",
   "execution_count": 4,
   "metadata": {},
   "outputs": [
    {
     "data": {
      "text/html": [
       "<div>\n",
       "<style scoped>\n",
       "    .dataframe tbody tr th:only-of-type {\n",
       "        vertical-align: middle;\n",
       "    }\n",
       "\n",
       "    .dataframe tbody tr th {\n",
       "        vertical-align: top;\n",
       "    }\n",
       "\n",
       "    .dataframe thead th {\n",
       "        text-align: right;\n",
       "    }\n",
       "</style>\n",
       "<table border=\"1\" class=\"dataframe\">\n",
       "  <thead>\n",
       "    <tr style=\"text-align: right;\">\n",
       "      <th></th>\n",
       "      <th>Node Source</th>\n",
       "      <th>Node Target</th>\n",
       "      <th>weight</th>\n",
       "    </tr>\n",
       "  </thead>\n",
       "  <tbody>\n",
       "    <tr>\n",
       "      <th>0</th>\n",
       "      <td>11</td>\n",
       "      <td>22</td>\n",
       "      <td>22</td>\n",
       "    </tr>\n",
       "    <tr>\n",
       "      <th>1</th>\n",
       "      <td>22</td>\n",
       "      <td>33</td>\n",
       "      <td>3</td>\n",
       "    </tr>\n",
       "    <tr>\n",
       "      <th>2</th>\n",
       "      <td>33</td>\n",
       "      <td>44</td>\n",
       "      <td>0</td>\n",
       "    </tr>\n",
       "    <tr>\n",
       "      <th>3</th>\n",
       "      <td>44</td>\n",
       "      <td>66</td>\n",
       "      <td>1</td>\n",
       "    </tr>\n",
       "    <tr>\n",
       "      <th>4</th>\n",
       "      <td>55</td>\n",
       "      <td>11</td>\n",
       "      <td>11</td>\n",
       "    </tr>\n",
       "    <tr>\n",
       "      <th>5</th>\n",
       "      <td>66</td>\n",
       "      <td>55</td>\n",
       "      <td>10</td>\n",
       "    </tr>\n",
       "  </tbody>\n",
       "</table>\n",
       "</div>"
      ],
      "text/plain": [
       "   Node Source  Node Target  weight\n",
       "0           11           22      22\n",
       "1           22           33       3\n",
       "2           33           44       0\n",
       "3           44           66       1\n",
       "4           55           11      11\n",
       "5           66           55      10"
      ]
     },
     "execution_count": 4,
     "metadata": {},
     "output_type": "execute_result"
    }
   ],
   "source": [
    "df = pd.read_csv(\"exampleEdgelist.csv\")\n",
    "df"
   ]
  },
  {
   "cell_type": "markdown",
   "metadata": {},
   "source": [
    "### Now to descibe the attributes, create a json: graph attributes, node attributes and edge attributes\n",
    "\n",
    "Note: it would be redundant to list node source/target in the edge attributes since the edgelist file contains that already\n"
   ]
  },
  {
   "cell_type": "code",
   "execution_count": 8,
   "metadata": {},
   "outputs": [
    {
     "data": {
      "text/plain": [
       "{11: {'Name': 'xx', 'Location': 123, 'Gender': 'male', 'Type': 'a'},\n",
       " 22: {'Name': 'yy', 'Location': 234, 'Gender': 'male', 'Type': 'b'},\n",
       " 33: {'Name': 'zz', 'Location': 456, 'Gender': 'male', 'Type': 'c'},\n",
       " 44: {'Name': 'aa', 'Location': 765, 'Gender': 'female', 'Type': 'd'},\n",
       " 55: {'Name': 'bb', 'Location': 45, 'Gender': 'female', 'Type': 'e'},\n",
       " 66: {'Name': 'cc', 'Location': 34, 'Gender': 'female', 'Type': 'f'}}"
      ]
     },
     "execution_count": 8,
     "metadata": {},
     "output_type": "execute_result"
    }
   ],
   "source": [
    "### I'll read in my csv containing nodes with two attributes\n",
    "df2 = pd.read_csv(\"exampleNode.csv\", index_col = 0)\n",
    "dictOfdf = df2.to_dict('index')\n",
    "dictOfdf"
   ]
  },
  {
   "cell_type": "code",
   "execution_count": 11,
   "metadata": {},
   "outputs": [],
   "source": [
    "### Let's define some graph level attributes/edge attributes:\n",
    "\n",
    "graphAtt = {'directed': 'yes', 'subject_name': 'gh', 'date': 'xx'}\n",
    "edgeAtt = {}\n"
   ]
  },
  {
   "cell_type": "code",
   "execution_count": 13,
   "metadata": {},
   "outputs": [],
   "source": [
    "### Combine the dictionaries:\n",
    "\n",
    "masterSpec = {'graphAttributes':graphAtt, 'nodeAttribute': dictOfdf, 'edgeAttributes': edgeAtt}"
   ]
  },
  {
   "cell_type": "code",
   "execution_count": 14,
   "metadata": {},
   "outputs": [],
   "source": [
    "## Create the json:\n",
    "\n",
    "with open('masterSpec.json', 'w') as outfile:  \n",
    "    json.dump(masterSpec, outfile)"
   ]
  },
  {
   "cell_type": "code",
   "execution_count": 15,
   "metadata": {},
   "outputs": [],
   "source": [
    "### Import the json:\n",
    "\n",
    "with open('masterSpec.json') as json_file:  \n",
    "    attributes = json.load(json_file)"
   ]
  },
  {
   "cell_type": "code",
   "execution_count": 16,
   "metadata": {},
   "outputs": [
    {
     "data": {
      "text/plain": [
       "{'graphAttributes': {'directed': 'yes', 'subject_name': 'gh', 'date': 'xx'},\n",
       " 'nodeAttribute': {'11': {'Name': 'xx',\n",
       "   'Location': 123,\n",
       "   'Gender': 'male',\n",
       "   'Type': 'a'},\n",
       "  '22': {'Name': 'yy', 'Location': 234, 'Gender': 'male', 'Type': 'b'},\n",
       "  '33': {'Name': 'zz', 'Location': 456, 'Gender': 'male', 'Type': 'c'},\n",
       "  '44': {'Name': 'aa', 'Location': 765, 'Gender': 'female', 'Type': 'd'},\n",
       "  '55': {'Name': 'bb', 'Location': 45, 'Gender': 'female', 'Type': 'e'},\n",
       "  '66': {'Name': 'cc', 'Location': 34, 'Gender': 'female', 'Type': 'f'}},\n",
       " 'edgeAttributes': {}}"
      ]
     },
     "execution_count": 16,
     "metadata": {},
     "output_type": "execute_result"
    }
   ],
   "source": [
    "attributes"
   ]
  },
  {
   "cell_type": "code",
   "execution_count": null,
   "metadata": {},
   "outputs": [],
   "source": []
  }
 ],
 "metadata": {
  "kernelspec": {
   "display_name": "Python 3",
   "language": "python",
   "name": "python3"
  },
  "language_info": {
   "codemirror_mode": {
    "name": "ipython",
    "version": 3
   },
   "file_extension": ".py",
   "mimetype": "text/x-python",
   "name": "python",
   "nbconvert_exporter": "python",
   "pygments_lexer": "ipython3",
   "version": "3.7.2"
  }
 },
 "nbformat": 4,
 "nbformat_minor": 2
}
