{
 "cells": [
  {
   "cell_type": "markdown",
   "metadata": {},
   "source": [
    "Trial version of what data in our spec should look like. User is burdened with formatting the data in our spec. "
   ]
  },
  {
   "cell_type": "code",
   "execution_count": 84,
   "metadata": {},
   "outputs": [],
   "source": [
    "import numpy as np\n",
    "import json \n",
    "import pandas as pd\n",
    "%matplotlib inline"
   ]
  },
  {
   "cell_type": "markdown",
   "metadata": {},
   "source": [
    "### Start with the data: edgelist should be in csv and should be sparse"
   ]
  },
  {
   "cell_type": "code",
   "execution_count": 4,
   "metadata": {},
   "outputs": [
    {
     "data": {
      "text/html": [
       "<div>\n",
       "<style scoped>\n",
       "    .dataframe tbody tr th:only-of-type {\n",
       "        vertical-align: middle;\n",
       "    }\n",
       "\n",
       "    .dataframe tbody tr th {\n",
       "        vertical-align: top;\n",
       "    }\n",
       "\n",
       "    .dataframe thead th {\n",
       "        text-align: right;\n",
       "    }\n",
       "</style>\n",
       "<table border=\"1\" class=\"dataframe\">\n",
       "  <thead>\n",
       "    <tr style=\"text-align: right;\">\n",
       "      <th></th>\n",
       "      <th>Node Source</th>\n",
       "      <th>Node Target</th>\n",
       "      <th>weight</th>\n",
       "    </tr>\n",
       "  </thead>\n",
       "  <tbody>\n",
       "    <tr>\n",
       "      <th>0</th>\n",
       "      <td>11</td>\n",
       "      <td>22</td>\n",
       "      <td>22</td>\n",
       "    </tr>\n",
       "    <tr>\n",
       "      <th>1</th>\n",
       "      <td>22</td>\n",
       "      <td>33</td>\n",
       "      <td>3</td>\n",
       "    </tr>\n",
       "    <tr>\n",
       "      <th>2</th>\n",
       "      <td>33</td>\n",
       "      <td>44</td>\n",
       "      <td>0</td>\n",
       "    </tr>\n",
       "    <tr>\n",
       "      <th>3</th>\n",
       "      <td>44</td>\n",
       "      <td>66</td>\n",
       "      <td>1</td>\n",
       "    </tr>\n",
       "    <tr>\n",
       "      <th>4</th>\n",
       "      <td>55</td>\n",
       "      <td>11</td>\n",
       "      <td>11</td>\n",
       "    </tr>\n",
       "    <tr>\n",
       "      <th>5</th>\n",
       "      <td>66</td>\n",
       "      <td>55</td>\n",
       "      <td>10</td>\n",
       "    </tr>\n",
       "  </tbody>\n",
       "</table>\n",
       "</div>"
      ],
      "text/plain": [
       "   Node Source  Node Target  weight\n",
       "0           11           22      22\n",
       "1           22           33       3\n",
       "2           33           44       0\n",
       "3           44           66       1\n",
       "4           55           11      11\n",
       "5           66           55      10"
      ]
     },
     "execution_count": 4,
     "metadata": {},
     "output_type": "execute_result"
    }
   ],
   "source": [
    "df = pd.read_csv(\"exampleEdgelist.csv\")\n",
    "df"
   ]
  },
  {
   "cell_type": "markdown",
   "metadata": {},
   "source": [
    "### Now to descibe the attributes, create a json: graph attributes, node attributes and edge attributes\n",
    "\n",
    "Note: it would be redundant to list node source/target in the edge attributes since the edgelist file contains that already\n"
   ]
  },
  {
   "cell_type": "code",
   "execution_count": 8,
   "metadata": {},
   "outputs": [
    {
     "data": {
      "text/plain": [
       "{11: {'Name': 'xx', 'Location': 123, 'Gender': 'male', 'Type': 'a'},\n",
       " 22: {'Name': 'yy', 'Location': 234, 'Gender': 'male', 'Type': 'b'},\n",
       " 33: {'Name': 'zz', 'Location': 456, 'Gender': 'male', 'Type': 'c'},\n",
       " 44: {'Name': 'aa', 'Location': 765, 'Gender': 'female', 'Type': 'd'},\n",
       " 55: {'Name': 'bb', 'Location': 45, 'Gender': 'female', 'Type': 'e'},\n",
       " 66: {'Name': 'cc', 'Location': 34, 'Gender': 'female', 'Type': 'f'}}"
      ]
     },
     "execution_count": 8,
     "metadata": {},
     "output_type": "execute_result"
    }
   ],
   "source": [
    "### I'll read in my csv containing nodes with two attributes\n",
    "df2 = pd.read_csv(\"exampleNode.csv\", index_col = 0)\n",
    "dictOfdf = df2.to_dict('index')\n",
    "dictOfdf"
   ]
  },
  {
   "cell_type": "code",
   "execution_count": 11,
   "metadata": {},
   "outputs": [],
   "source": [
    "### Let's define some graph level attributes/edge attributes:\n",
    "\n",
    "graphAtt = {'directed': 'yes', 'subject_name': 'gh', 'date': 'xx'}\n",
    "edgeAtt = {}\n"
   ]
  },
  {
   "cell_type": "code",
   "execution_count": 13,
   "metadata": {},
   "outputs": [],
   "source": [
    "### Combine the dictionaries:\n",
    "\n",
    "masterSpec = {'graphAttributes':graphAtt, 'nodeAttribute': dictOfdf, 'edgeAttributes': edgeAtt}"
   ]
  },
  {
   "cell_type": "code",
   "execution_count": 14,
   "metadata": {},
   "outputs": [],
   "source": [
    "## Create the json:\n",
    "\n",
    "with open('masterSpec.json', 'w') as outfile:  \n",
    "    json.dump(masterSpec, outfile)"
   ]
  },
  {
   "cell_type": "code",
   "execution_count": 15,
   "metadata": {},
   "outputs": [],
   "source": [
    "### Import the json:\n",
    "\n",
    "with open('masterSpec.json') as json_file:  \n",
    "    attributes = json.load(json_file)"
   ]
  },
  {
   "cell_type": "code",
   "execution_count": 16,
   "metadata": {},
   "outputs": [
    {
     "data": {
      "text/plain": [
       "{'graphAttributes': {'directed': 'yes', 'subject_name': 'gh', 'date': 'xx'},\n",
       " 'nodeAttribute': {'11': {'Name': 'xx',\n",
       "   'Location': 123,\n",
       "   'Gender': 'male',\n",
       "   'Type': 'a'},\n",
       "  '22': {'Name': 'yy', 'Location': 234, 'Gender': 'male', 'Type': 'b'},\n",
       "  '33': {'Name': 'zz', 'Location': 456, 'Gender': 'male', 'Type': 'c'},\n",
       "  '44': {'Name': 'aa', 'Location': 765, 'Gender': 'female', 'Type': 'd'},\n",
       "  '55': {'Name': 'bb', 'Location': 45, 'Gender': 'female', 'Type': 'e'},\n",
       "  '66': {'Name': 'cc', 'Location': 34, 'Gender': 'female', 'Type': 'f'}},\n",
       " 'edgeAttributes': {}}"
      ]
     },
     "execution_count": 16,
     "metadata": {},
     "output_type": "execute_result"
    }
   ],
   "source": [
    "attributes"
   ]
  },
  {
   "cell_type": "code",
   "execution_count": null,
   "metadata": {},
   "outputs": [],
   "source": []
  },
  {
   "cell_type": "code",
   "execution_count": null,
   "metadata": {},
   "outputs": [],
   "source": []
  },
  {
   "cell_type": "code",
   "execution_count": null,
   "metadata": {},
   "outputs": [],
   "source": []
  },
  {
   "cell_type": "markdown",
   "metadata": {},
   "source": [
    "### Now to try creating function that reads the spec in and creates a graph object"
   ]
  },
  {
   "cell_type": "code",
   "execution_count": 22,
   "metadata": {},
   "outputs": [
    {
     "name": "stdout",
     "output_type": "stream",
     "text": [
      "(6, 3)\n"
     ]
    },
    {
     "data": {
      "text/html": [
       "<div>\n",
       "<style scoped>\n",
       "    .dataframe tbody tr th:only-of-type {\n",
       "        vertical-align: middle;\n",
       "    }\n",
       "\n",
       "    .dataframe tbody tr th {\n",
       "        vertical-align: top;\n",
       "    }\n",
       "\n",
       "    .dataframe thead th {\n",
       "        text-align: right;\n",
       "    }\n",
       "</style>\n",
       "<table border=\"1\" class=\"dataframe\">\n",
       "  <thead>\n",
       "    <tr style=\"text-align: right;\">\n",
       "      <th></th>\n",
       "      <th>Node Source</th>\n",
       "      <th>Node Target</th>\n",
       "      <th>weight</th>\n",
       "    </tr>\n",
       "  </thead>\n",
       "  <tbody>\n",
       "    <tr>\n",
       "      <th>0</th>\n",
       "      <td>11</td>\n",
       "      <td>22</td>\n",
       "      <td>22</td>\n",
       "    </tr>\n",
       "    <tr>\n",
       "      <th>1</th>\n",
       "      <td>22</td>\n",
       "      <td>33</td>\n",
       "      <td>3</td>\n",
       "    </tr>\n",
       "    <tr>\n",
       "      <th>2</th>\n",
       "      <td>33</td>\n",
       "      <td>44</td>\n",
       "      <td>0</td>\n",
       "    </tr>\n",
       "    <tr>\n",
       "      <th>3</th>\n",
       "      <td>44</td>\n",
       "      <td>66</td>\n",
       "      <td>1</td>\n",
       "    </tr>\n",
       "    <tr>\n",
       "      <th>4</th>\n",
       "      <td>55</td>\n",
       "      <td>11</td>\n",
       "      <td>11</td>\n",
       "    </tr>\n",
       "    <tr>\n",
       "      <th>5</th>\n",
       "      <td>66</td>\n",
       "      <td>55</td>\n",
       "      <td>10</td>\n",
       "    </tr>\n",
       "  </tbody>\n",
       "</table>\n",
       "</div>"
      ],
      "text/plain": [
       "   Node Source  Node Target  weight\n",
       "0           11           22      22\n",
       "1           22           33       3\n",
       "2           33           44       0\n",
       "3           44           66       1\n",
       "4           55           11      11\n",
       "5           66           55      10"
      ]
     },
     "execution_count": 22,
     "metadata": {},
     "output_type": "execute_result"
    }
   ],
   "source": [
    "### Let's start with the edgelist csv file, read the file in as a pandas df\n",
    "print(df.shape)\n",
    "df"
   ]
  },
  {
   "cell_type": "code",
   "execution_count": 86,
   "metadata": {},
   "outputs": [],
   "source": [
    "def csvtoAdjacency(pandasdf):\n",
    "    \n",
    "    size = pandasdf.shape[0] \n",
    "    \n",
    "    \n",
    "    \n",
    "    \n",
    "    \n",
    "    new = np.full((size,size), 0).astype(int)\n",
    "\n",
    "    id_to_index_map = {pandasdf.values[i,0] : i for i in range(len(pandasdf.values))}; print(id_to_index_map)\n",
    "\n",
    "    for index, match, val in pandasdf.values:\n",
    "        #print(f\"index: {index}, match: {match}, val: {val}\")\n",
    "        new[id_to_index_map[index], id_to_index_map[match]] = val\n",
    "\n",
    "    #print('    ',*id_to_index_map.keys())\n",
    "    #for i, row in enumerate(new):\n",
    "        #print(df.values[i, 0], row)\n",
    "\n",
    "    return new"
   ]
  },
  {
   "cell_type": "code",
   "execution_count": 87,
   "metadata": {},
   "outputs": [
    {
     "name": "stdout",
     "output_type": "stream",
     "text": [
      "{11: 0, 22: 1, 33: 2, 44: 3, 55: 4, 66: 5}\n"
     ]
    },
    {
     "data": {
      "text/plain": [
       "array([[ 0, 22,  0,  0,  0,  0],\n",
       "       [ 0,  0,  3,  0,  0,  0],\n",
       "       [ 0,  0,  0,  0,  0,  0],\n",
       "       [ 0,  0,  0,  0,  0,  1],\n",
       "       [11,  0,  0,  0,  0,  0],\n",
       "       [ 0,  0,  0,  0, 10,  0]])"
      ]
     },
     "execution_count": 87,
     "metadata": {},
     "output_type": "execute_result"
    }
   ],
   "source": [
    "new = csvtoAdjacency(df)\n",
    "new"
   ]
  },
  {
   "cell_type": "markdown",
   "metadata": {},
   "source": [
    "### Try plotting the adjacency matrix and json using graspy"
   ]
  },
  {
   "cell_type": "code",
   "execution_count": 79,
   "metadata": {
    "scrolled": false
   },
   "outputs": [
    {
     "data": {
      "text/plain": [
       "{'graphAttributes': {'directed': 'yes', 'subject_name': 'gh', 'date': 'xx'},\n",
       " 'nodeAttribute': {'11': {'Name': 'xx',\n",
       "   'Location': 123,\n",
       "   'Gender': 'male',\n",
       "   'Type': 'a'},\n",
       "  '22': {'Name': 'yy', 'Location': 234, 'Gender': 'male', 'Type': 'b'},\n",
       "  '33': {'Name': 'zz', 'Location': 456, 'Gender': 'male', 'Type': 'c'},\n",
       "  '44': {'Name': 'aa', 'Location': 765, 'Gender': 'female', 'Type': 'd'},\n",
       "  '55': {'Name': 'bb', 'Location': 45, 'Gender': 'female', 'Type': 'e'},\n",
       "  '66': {'Name': 'cc', 'Location': 34, 'Gender': 'female', 'Type': 'f'}},\n",
       " 'edgeAttributes': {}}"
      ]
     },
     "execution_count": 79,
     "metadata": {},
     "output_type": "execute_result"
    }
   ],
   "source": [
    "attributes"
   ]
  },
  {
   "cell_type": "code",
   "execution_count": 80,
   "metadata": {},
   "outputs": [],
   "source": [
    "##First get the labels from the json file\n",
    "labels = []\n",
    "\n",
    "for k, v in attributes.items():\n",
    "    if k == 'nodeAttribute':\n",
    "        for key, val in v.items():\n",
    "            #print(key, val)\n",
    "            #print(type(val))\n",
    "            for keey, vaal in val.items():\n",
    "                if keey == 'Gender':\n",
    "                    labels.append(vaal)\n",
    "                \n",
    "            \n",
    "                \n",
    "            \n",
    "\n"
   ]
  },
  {
   "cell_type": "code",
   "execution_count": 81,
   "metadata": {},
   "outputs": [
    {
     "data": {
      "text/plain": [
       "['male', 'male', 'male', 'female', 'female', 'female']"
      ]
     },
     "execution_count": 81,
     "metadata": {},
     "output_type": "execute_result"
    }
   ],
   "source": [
    "labels"
   ]
  },
  {
   "cell_type": "code",
   "execution_count": 85,
   "metadata": {},
   "outputs": [
    {
     "name": "stdout",
     "output_type": "stream",
     "text": [
      "6\n"
     ]
    },
    {
     "data": {
      "text/plain": [
       "<matplotlib.axes._subplots.AxesSubplot at 0x11751abe0>"
      ]
     },
     "execution_count": 85,
     "metadata": {},
     "output_type": "execute_result"
    },
    {
     "data": {
      "image/png": "[encoded data removed]",
      "text/plain": [
       "<Figure size 720x720 with 4 Axes>"
      ]
     },
     "metadata": {
      "needs_background": "light"
     },
     "output_type": "display_data"
    }
   ],
   "source": [
    "from graspy.plot import heatmap\n",
    "\n",
    "title = 'Trial heatmap'\n",
    "\n",
    "labels = np.array(labels)\n",
    "\n",
    "\n",
    "print(new.shape[0])\n",
    "\n",
    "\n",
    "fig= heatmap(new, title=title, inner_hier_labels = labels)\n",
    "fig"
   ]
  },
  {
   "cell_type": "code",
   "execution_count": null,
   "metadata": {},
   "outputs": [],
   "source": []
  }
 ],
 "metadata": {
  "kernelspec": {
   "display_name": "Python 3",
   "language": "python",
   "name": "python3"
  },
  "language_info": {
   "codemirror_mode": {
    "name": "ipython",
    "version": 3
   },
   "file_extension": ".py",
   "mimetype": "text/x-python",
   "name": "python",
   "nbconvert_exporter": "python",
   "pygments_lexer": "ipython3",
   "version": "3.7.2"
  }
 },
 "nbformat": 4,
 "nbformat_minor": 2
}
