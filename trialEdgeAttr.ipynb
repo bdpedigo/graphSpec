{
 "cells": [
  {
   "cell_type": "markdown",
   "metadata": {},
   "source": [
    "### Trial for the kind of json we want \n",
    "Edge attributes are a table and graph/node attributes are a dictionary list?"
   ]
  },
  {
   "cell_type": "code",
   "execution_count": 5,
   "metadata": {},
   "outputs": [],
   "source": [
    "import pandas as pd\n",
    "import json\n",
    "import numpy as np"
   ]
  },
  {
   "cell_type": "markdown",
   "metadata": {},
   "source": [
    "#### Table in a json for edge attribtues"
   ]
  },
  {
   "cell_type": "code",
   "execution_count": 6,
   "metadata": {},
   "outputs": [],
   "source": [
    "df = pd.read_csv(\"edgeAttrTrial.csv\", index_col = 0)"
   ]
  },
  {
   "cell_type": "code",
   "execution_count": 7,
   "metadata": {},
   "outputs": [
    {
     "data": {
      "text/html": [
       "<div>\n",
       "<style scoped>\n",
       "    .dataframe tbody tr th:only-of-type {\n",
       "        vertical-align: middle;\n",
       "    }\n",
       "\n",
       "    .dataframe tbody tr th {\n",
       "        vertical-align: top;\n",
       "    }\n",
       "\n",
       "    .dataframe thead th {\n",
       "        text-align: right;\n",
       "    }\n",
       "</style>\n",
       "<table border=\"1\" class=\"dataframe\">\n",
       "  <thead>\n",
       "    <tr style=\"text-align: right;\">\n",
       "      <th></th>\n",
       "      <th>node target</th>\n",
       "      <th>type</th>\n",
       "    </tr>\n",
       "    <tr>\n",
       "      <th>node source</th>\n",
       "      <th></th>\n",
       "      <th></th>\n",
       "    </tr>\n",
       "  </thead>\n",
       "  <tbody>\n",
       "    <tr>\n",
       "      <th>1</th>\n",
       "      <td>2</td>\n",
       "      <td>y</td>\n",
       "    </tr>\n",
       "    <tr>\n",
       "      <th>2</th>\n",
       "      <td>3</td>\n",
       "      <td>y</td>\n",
       "    </tr>\n",
       "    <tr>\n",
       "      <th>3</th>\n",
       "      <td>1</td>\n",
       "      <td>y</td>\n",
       "    </tr>\n",
       "    <tr>\n",
       "      <th>4</th>\n",
       "      <td>5</td>\n",
       "      <td>y</td>\n",
       "    </tr>\n",
       "    <tr>\n",
       "      <th>5</th>\n",
       "      <td>4</td>\n",
       "      <td>y</td>\n",
       "    </tr>\n",
       "  </tbody>\n",
       "</table>\n",
       "</div>"
      ],
      "text/plain": [
       "             node target type\n",
       "node source                  \n",
       "1                      2    y\n",
       "2                      3    y\n",
       "3                      1    y\n",
       "4                      5    y\n",
       "5                      4    y"
      ]
     },
     "execution_count": 7,
     "metadata": {},
     "output_type": "execute_result"
    }
   ],
   "source": [
    "df"
   ]
  },
  {
   "cell_type": "markdown",
   "metadata": {},
   "source": [
    "#### Try to write this to a table in json "
   ]
  },
  {
   "cell_type": "code",
   "execution_count": 9,
   "metadata": {},
   "outputs": [],
   "source": [
    "x = df.to_json(orient='table')\n",
    "print(x)\n"
   ]
  },
  {
   "cell_type": "code",
   "execution_count": 10,
   "metadata": {},
   "outputs": [],
   "source": [
    "with open('edgeTable.json', 'w') as outfile:\n",
    "    json.dump(x, outfile)"
   ]
  },
  {
   "cell_type": "code",
   "execution_count": 9,
   "metadata": {},
   "outputs": [],
   "source": [
    "with open('edgeTable.json') as json_file:  \n",
    "    xx = json.load(json_file)"
   ]
  },
  {
   "cell_type": "code",
   "execution_count": 107,
   "metadata": {},
   "outputs": [
    {
     "name": "stdout",
     "output_type": "stream",
     "text": [
      "<_io.TextIOWrapper name='edgeAttrTrial.csv' mode='r' encoding='UTF-8'>\n",
      "[{\"node source\":\"\\ufeffnode source\",\"node target\":\"node target\",\"type\":\"type\"},{\"node source\":\"1\",\"node target\":\"2\",\"type\":\"y\"},{\"node source\":\"2\",\"node target\":\"3\",\"type\":\"y\"},{\"node source\":\"3\",\"node target\":\"1\",\"type\":\"y\"},{\"node source\":\"4\",\"node target\":\"5\",\"type\":\"y\"},{\"node source\":\"5\",\"node target\":\"4\",\"type\":\"y\"}]\n"
     ]
    }
   ],
   "source": [
    "import csv  \n",
    "import json  \n",
    "\n",
    "f = open( 'edgeAttrTrial.csv', 'r' ) \n",
    "\n",
    "print(f)\n",
    "\n",
    "# Change each fieldname to the appropriate field name. I know, so difficult.  \n",
    "reader = csv.DictReader( f, fieldnames = ( \"node source\",\"node target\",\"type\"))  \n",
    "\n",
    "# Parse the CSV into JSON  \n",
    "out = json.dumps( [row for row in reader], separators=(',',':'))\n",
    "print(out)\n",
    "# Save the JSON  \n",
    "\n",
    "# outfile = open( 'tempFile.json', 'w')  \n",
    "# outfile.write(out)  \n",
    "\n",
    "with open('tempFile.json', 'w') as outfile:\n",
    "     json.dump(out, outfile)\n"
   ]
  },
  {
   "cell_type": "code",
   "execution_count": 112,
   "metadata": {},
   "outputs": [
    {
     "name": "stdout",
     "output_type": "stream",
     "text": [
      "[{\"node source\":\"\\\\ufeffnode source\",\"node target\":\"node target\",\"type\":\"type\"},{\"node source\":\"1\",\"node target\":\"2\",\"type\":\"y\"},{\"node source\":\"2\",\"node target\":\"3\",\"type\":\"y\"},{\"node source\":\"3\",\"node target\":\"1\",\"type\":\"y\"},{\"node source\":\"4\",\"node target\":\"5\",\"type\":\"y\"},{\"node source\":\"5\",\"node target\":\"4\",\"type\":\"y\"}]\n",
      "\n",
      "1\n",
      "{'node source': '1', 'node target': '2', 'type': 'y'}\n"
     ]
    }
   ],
   "source": [
    "# data = json.loads(\"{\\\"node source\\\":\\\"1\\\",\\\"node target\\\":\\\"2\\\",\\\"type\\\":\\\"y\\\"}\")\n",
    "# print(data[\"node source\"])\n",
    "\n",
    "with open(\"tempFile.json\") as jsonInputFile:\n",
    "    content = jsonInputFile.read().replace(\"\\\\\\\"\",\"\\\"\")\n",
    "    print(content)\n",
    "    data = json.loads(content)\n",
    "    print(data[1][\"node source\"])\n",
    "    print(data[1])\n",
    "#     for line in jsonInputFile.read()\n",
    "#         data = json.loads(line)\n",
    "#         print(data[\"node source\"])\n",
    "\n",
    "    \n",
    "    "
   ]
  },
  {
   "cell_type": "code",
   "execution_count": null,
   "metadata": {},
   "outputs": [],
   "source": []
  },
  {
   "cell_type": "code",
   "execution_count": null,
   "metadata": {},
   "outputs": [],
   "source": []
  }
 ],
 "metadata": {
  "kernelspec": {
   "display_name": "Python 3",
   "language": "python",
   "name": "python3"
  },
  "language_info": {
   "codemirror_mode": {
    "name": "ipython",
    "version": 3
   },
   "file_extension": ".py",
   "mimetype": "text/x-python",
   "name": "python",
   "nbconvert_exporter": "python",
   "pygments_lexer": "ipython3",
   "version": "3.7.2"
  }
 },
 "nbformat": 4,
 "nbformat_minor": 2
}
