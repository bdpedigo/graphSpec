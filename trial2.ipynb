{
 "cells": [
  {
   "cell_type": "markdown",
   "metadata": {},
   "source": [
    "Notebook to demonstrate I can make a json file and plot an edgelist file\n"
   ]
  },
  {
   "cell_type": "code",
   "execution_count": 1,
   "metadata": {},
   "outputs": [],
   "source": [
    "import pandas as pd\n",
    "import graspy\n",
    "import networkx as nx\n",
    "import numpy as np\n",
    "%matplotlib inline"
   ]
  },
  {
   "cell_type": "code",
   "execution_count": 2,
   "metadata": {},
   "outputs": [],
   "source": [
    "df = pd.read_csv(\"exampleEdgelist.csv\")"
   ]
  },
  {
   "cell_type": "code",
   "execution_count": 3,
   "metadata": {
    "scrolled": true
   },
   "outputs": [
    {
     "data": {
      "text/html": [
       "<div>\n",
       "<style scoped>\n",
       "    .dataframe tbody tr th:only-of-type {\n",
       "        vertical-align: middle;\n",
       "    }\n",
       "\n",
       "    .dataframe tbody tr th {\n",
       "        vertical-align: top;\n",
       "    }\n",
       "\n",
       "    .dataframe thead th {\n",
       "        text-align: right;\n",
       "    }\n",
       "</style>\n",
       "<table border=\"1\" class=\"dataframe\">\n",
       "  <thead>\n",
       "    <tr style=\"text-align: right;\">\n",
       "      <th></th>\n",
       "      <th>Node Source</th>\n",
       "      <th>Node Target</th>\n",
       "      <th>weight</th>\n",
       "    </tr>\n",
       "  </thead>\n",
       "  <tbody>\n",
       "    <tr>\n",
       "      <th>0</th>\n",
       "      <td>11</td>\n",
       "      <td>22</td>\n",
       "      <td>22</td>\n",
       "    </tr>\n",
       "    <tr>\n",
       "      <th>1</th>\n",
       "      <td>22</td>\n",
       "      <td>33</td>\n",
       "      <td>3</td>\n",
       "    </tr>\n",
       "    <tr>\n",
       "      <th>2</th>\n",
       "      <td>33</td>\n",
       "      <td>44</td>\n",
       "      <td>0</td>\n",
       "    </tr>\n",
       "    <tr>\n",
       "      <th>3</th>\n",
       "      <td>44</td>\n",
       "      <td>66</td>\n",
       "      <td>1</td>\n",
       "    </tr>\n",
       "    <tr>\n",
       "      <th>4</th>\n",
       "      <td>55</td>\n",
       "      <td>11</td>\n",
       "      <td>11</td>\n",
       "    </tr>\n",
       "    <tr>\n",
       "      <th>5</th>\n",
       "      <td>66</td>\n",
       "      <td>55</td>\n",
       "      <td>10</td>\n",
       "    </tr>\n",
       "  </tbody>\n",
       "</table>\n",
       "</div>"
      ],
      "text/plain": [
       "   Node Source  Node Target  weight\n",
       "0           11           22      22\n",
       "1           22           33       3\n",
       "2           33           44       0\n",
       "3           44           66       1\n",
       "4           55           11      11\n",
       "5           66           55      10"
      ]
     },
     "execution_count": 3,
     "metadata": {},
     "output_type": "execute_result"
    }
   ],
   "source": [
    "df"
   ]
  },
  {
   "cell_type": "code",
   "execution_count": 6,
   "metadata": {},
   "outputs": [
    {
     "name": "stdout",
     "output_type": "stream",
     "text": [
      "{11: 0, 22: 1, 33: 2, 44: 3, 55: 4, 66: 5}\n",
      "index: 11, match: 22, val: 22\n",
      "index: 22, match: 33, val: 3\n",
      "index: 33, match: 44, val: 0\n",
      "index: 44, match: 66, val: 1\n",
      "index: 55, match: 11, val: 11\n",
      "index: 66, match: 55, val: 10\n",
      "     11 22 33 44 55 66\n",
      "11 [ 0 22  0  0  0  0]\n",
      "22 [0 0 3 0 0 0]\n",
      "33 [0 0 0 0 0 0]\n",
      "44 [0 0 0 0 0 1]\n",
      "55 [11  0  0  0  0  0]\n",
      "66 [ 0  0  0  0 10  0]\n",
      "[[ 0 22  0  0  0  0]\n",
      " [ 0  0  3  0  0  0]\n",
      " [ 0  0  0  0  0  0]\n",
      " [ 0  0  0  0  0  1]\n",
      " [11  0  0  0  0  0]\n",
      " [ 0  0  0  0 10  0]]\n"
     ]
    }
   ],
   "source": [
    "new = np.full((6,6), 0).astype(int)\n",
    "# for row in range(6):\n",
    "#     for col in range(6):\n",
    "#         new[row, col] = \n",
    "        \n",
    "# newmap = enumerate(df.values[:,0]); print(list(newmap))\n",
    "id_to_index_map = {df.values[i,0] : i for i in range(len(df.values))}; print(id_to_index_map)\n",
    "\n",
    "for index, match, val in df.values:\n",
    "    print(f\"index: {index}, match: {match}, val: {val}\")\n",
    "    new[id_to_index_map[index], id_to_index_map[match]] = val\n",
    "\n",
    "print('    ',*id_to_index_map.keys())\n",
    "for i, row in enumerate(new):\n",
    "    print(df.values[i, 0], row)\n",
    "\n",
    "print(new)"
   ]
  },
  {
   "cell_type": "code",
   "execution_count": null,
   "metadata": {},
   "outputs": [],
   "source": [
    "\n"
   ]
  },
  {
   "cell_type": "code",
   "execution_count": 7,
   "metadata": {},
   "outputs": [
    {
     "data": {
      "image/png": "[encoded data removed]",
      "text/plain": [
       "<Figure size 720x720 with 2 Axes>"
      ]
     },
     "metadata": {
      "needs_background": "light"
     },
     "output_type": "display_data"
    }
   ],
   "source": [
    "from graspy.plot import heatmap\n",
    "\n",
    "title = 'Trial heatmap'\n",
    "\n",
    "fig= heatmap(new, title=title)"
   ]
  },
  {
   "cell_type": "code",
   "execution_count": null,
   "metadata": {},
   "outputs": [],
   "source": []
  }
 ],
 "metadata": {
  "kernelspec": {
   "display_name": "Python 3",
   "language": "python",
   "name": "python3"
  },
  "language_info": {
   "codemirror_mode": {
    "name": "ipython",
    "version": 3
   },
   "file_extension": ".py",
   "mimetype": "text/x-python",
   "name": "python",
   "nbconvert_exporter": "python",
   "pygments_lexer": "ipython3",
   "version": "3.7.2"
  }
 },
 "nbformat": 4,
 "nbformat_minor": 2
}
